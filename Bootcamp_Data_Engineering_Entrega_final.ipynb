{
  "nbformat": 4,
  "nbformat_minor": 0,
  "metadata": {
    "colab": {
      "name": "Bootcamp Data Engineering - Entrega final.ipynb",
      "provenance": [],
      "collapsed_sections": []
    },
    "kernelspec": {
      "name": "python3",
      "display_name": "Python 3"
    }
  },
  "cells": [
    {
      "cell_type": "markdown",
      "metadata": {
        "id": "3aHzn_8YH2Lm"
      },
      "source": [
        "# **PREPARAÇÃO**"
      ]
    },
    {
      "cell_type": "markdown",
      "metadata": {
        "id": "q8KXiCsw72sD"
      },
      "source": [
        "Importar a lib do pandas:\n"
      ]
    },
    {
      "cell_type": "code",
      "metadata": {
        "id": "aJhqyitm43gb"
      },
      "source": [
        "import pandas as pd"
      ],
      "execution_count": 1,
      "outputs": []
    },
    {
      "cell_type": "markdown",
      "metadata": {
        "id": "wIkHFzCk7vjH"
      },
      "source": [
        "Instalar libs, utilizar o `!pip install`:"
      ]
    },
    {
      "cell_type": "code",
      "metadata": {
        "id": "2n69XRbY6Agc"
      },
      "source": [
        "!pip install fuzzywuzzy"
      ],
      "execution_count": null,
      "outputs": []
    },
    {
      "cell_type": "markdown",
      "metadata": {
        "id": "tdXo1Y1k84Ra"
      },
      "source": [
        "Importar a biblioteca fuzzywuzzy depois de instalado:"
      ]
    },
    {
      "cell_type": "code",
      "metadata": {
        "id": "8jSfzg9t7sBT"
      },
      "source": [
        "from fuzzywuzzy import fuzz"
      ],
      "execution_count": 11,
      "outputs": []
    },
    {
      "cell_type": "markdown",
      "metadata": {
        "id": "JfTrRBQT9ALJ"
      },
      "source": [
        "Ler os arquivos CSV, utilizar o comando `read_csv`"
      ]
    },
    {
      "cell_type": "code",
      "metadata": {
        "id": "x0J2pjan6u9U"
      },
      "source": [
        "cadastro = pd.read_csv('https://raw.githubusercontent.com/renzoziegler/data_engineering_bootcamp/main/cadastro.csv')"
      ],
      "execution_count": 12,
      "outputs": []
    },
    {
      "cell_type": "code",
      "metadata": {
        "id": "p5WAzwG_7QBx"
      },
      "source": [
        "dados_medicos = pd.read_csv('https://raw.githubusercontent.com/renzoziegler/data_engineering_bootcamp/main/dados_medicos.csv')"
      ],
      "execution_count": 13,
      "outputs": []
    },
    {
      "cell_type": "markdown",
      "metadata": {
        "id": "pPi6tcvW-R0L"
      },
      "source": [
        "# **ANÁLISE EXPLORATORIA DOS DADOS**\n",
        "\n",
        "Conhecendo os dados que serão analisadas e se estão no formato correto."
      ]
    },
    {
      "cell_type": "markdown",
      "metadata": {
        "id": "uo_I4ytQ9WBl"
      },
      "source": [
        "Exibir a quantidade de registros, utilizando o comando `print(frame.shape)`"
      ]
    },
    {
      "cell_type": "code",
      "metadata": {
        "id": "K9vaMpmS8FCL"
      },
      "source": [
        "print(cadastro.shape)\n",
        "print(dados_medicos.shape)"
      ],
      "execution_count": null,
      "outputs": []
    },
    {
      "cell_type": "markdown",
      "metadata": {
        "id": "dhNLCqvD9vAd"
      },
      "source": [
        "Exibir as colunas do frame informado, utilizando o comando `print(frame.columns)`:"
      ]
    },
    {
      "cell_type": "code",
      "metadata": {
        "id": "A84NqVN88KUy"
      },
      "source": [
        "print(cadastro.columns)\n",
        "print(dados_medicos.columns)"
      ],
      "execution_count": null,
      "outputs": []
    },
    {
      "cell_type": "markdown",
      "metadata": {
        "id": "Kz_bE3Yb8dJt"
      },
      "source": [
        "O comando `head` visualiza as primeiras linhas:"
      ]
    },
    {
      "cell_type": "code",
      "metadata": {
        "id": "CoQE6Ixi8YfB"
      },
      "source": [
        "cadastro.head()"
      ],
      "execution_count": null,
      "outputs": []
    },
    {
      "cell_type": "markdown",
      "metadata": {
        "id": "HsrcuGjr8SGK"
      },
      "source": [
        "O comando `iloc[num]` exibi a linha informada:"
      ]
    },
    {
      "cell_type": "code",
      "metadata": {
        "id": "VG5CKFqp8RlU"
      },
      "source": [
        "print(cadastro.iloc[0])"
      ],
      "execution_count": null,
      "outputs": []
    },
    {
      "cell_type": "markdown",
      "metadata": {
        "id": "kO9ASLPK9-Ih"
      },
      "source": [
        "O comando `dtypes` exibe os datatypes das colunas do frame"
      ]
    },
    {
      "cell_type": "code",
      "metadata": {
        "id": "VzLonuEb927O"
      },
      "source": [
        "print(cadastro.dtypes)"
      ],
      "execution_count": null,
      "outputs": []
    },
    {
      "cell_type": "markdown",
      "metadata": {
        "id": "2LeOsPnd-5mm"
      },
      "source": [
        "# **PRÉ PROCESSAMENTO**"
      ]
    },
    {
      "cell_type": "markdown",
      "metadata": {
        "id": "MEBWFwuE_CZJ"
      },
      "source": [
        "Tratando o campo CPF\n",
        "\n",
        "- `astype(formato)` para transformar o tipo do dados para o indicado entre parenteses.\n",
        "\n",
        "- `zfill(qtd)` para preencher a coluna com a quantidade faltante, conforme o valor informado (qtd).\n",
        "\n"
      ]
    },
    {
      "cell_type": "code",
      "metadata": {
        "id": "p4mrXj3d_RSA"
      },
      "source": [
        "dados_medicos.cpf.astype(str).str.zfill(11)"
      ],
      "execution_count": null,
      "outputs": []
    },
    {
      "cell_type": "markdown",
      "metadata": {
        "id": "jn_3O3YPCM22"
      },
      "source": [
        "Tratar o campo CPF utilizando a função `lambda`.\n",
        "\n",
        "`lambda` é uma função anonima no phyton, é usada para definir em tempo de execução."
      ]
    },
    {
      "cell_type": "code",
      "metadata": {
        "id": "BbgymimICSRt"
      },
      "source": [
        "cadastro.cpf = cadastro.cpf.astype(str).apply(lambda x: x.zfill(11))\n",
        "dados_medicos.cpf = dados_medicos.cpf.astype(str).apply(lambda x: x.zfill(11))"
      ],
      "execution_count": 30,
      "outputs": []
    },
    {
      "cell_type": "code",
      "metadata": {
        "id": "fajX9-5vCsSO"
      },
      "source": [
        "print(cadastro.cpf)\n",
        "print(dados_medicos.cpf)"
      ],
      "execution_count": null,
      "outputs": []
    },
    {
      "cell_type": "markdown",
      "metadata": {
        "id": "IF5sBh1Z_7Fc"
      },
      "source": [
        "Quebrar NOME em nome e sobrenome, utilizando o comando `split(separador)`\n",
        "\n"
      ]
    },
    {
      "cell_type": "code",
      "metadata": {
        "id": "dSapUTsNAApR"
      },
      "source": [
        "cadastro['nome_array'] = cadastro.nome.str.split()\n",
        "cadastro['primeiro_nome'] = cadastro.nome_array.str[0]\n",
        "cadastro['sobrenome'] = cadastro.nome_array.str[-1]\n",
        "\n",
        "dados_medicos['nome_array'] = dados_medicos.nome.str.split()\n",
        "dados_medicos['primeiro_nome'] = dados_medicos.nome_array.str[0]\n",
        "dados_medicos['sobrenome'] = dados_medicos.nome_array.str[-1]"
      ],
      "execution_count": 26,
      "outputs": []
    },
    {
      "cell_type": "code",
      "metadata": {
        "id": "aEZVJ1lEATjj"
      },
      "source": [
        "print(cadastro.primeiro_nome)"
      ],
      "execution_count": null,
      "outputs": []
    },
    {
      "cell_type": "code",
      "metadata": {
        "id": "Yig1rtzIBxkf"
      },
      "source": [
        "print(cadastro.sobrenome)"
      ],
      "execution_count": null,
      "outputs": []
    },
    {
      "cell_type": "markdown",
      "metadata": {
        "id": "fuNP-JHiDSib"
      },
      "source": [
        "Converter para datatime DATA DE NASCIMENTO "
      ]
    },
    {
      "cell_type": "code",
      "metadata": {
        "id": "5Y6CQ5R3DQjH"
      },
      "source": [
        "cadastro.data_nasc = pd.to_datetime(cadastro.data_nasc, format = '%Y-%m-%d')\n",
        "dados_medicos.data_nasc = pd.to_datetime(dados_medicos.data_nasc, format = '%Y/%m/%d')\n",
        "\n",
        "print(cadastro.data_nasc)\n",
        "print(dados_medicos.data_nasc)"
      ],
      "execution_count": null,
      "outputs": []
    },
    {
      "cell_type": "markdown",
      "metadata": {
        "id": "m13NiAV8EgDG"
      },
      "source": [
        "Podemos quebrar em ano, mes e dia para poder comparar em outra análise"
      ]
    },
    {
      "cell_type": "code",
      "metadata": {
        "id": "DFet98C7Ek93"
      },
      "source": [
        "cadastro['nasc_ano'] = cadastro.data_nasc.apply(lambda x : x.year)\n",
        "cadastro['nasc_mes'] = cadastro.data_nasc.apply(lambda x : x.month)\n",
        "cadastro['nasc_dia'] = cadastro.data_nasc.apply(lambda x : x.day)\n",
        "\n",
        "dados_medicos['nasc_ano'] = dados_medicos.data_nasc.apply(lambda x : x.year)\n",
        "dados_medicos['nasc_mes'] = dados_medicos.data_nasc.apply(lambda x : x.month)\n",
        "dados_medicos['nasc_dia'] = dados_medicos.data_nasc.apply(lambda x : x.day)\n",
        "\n",
        "print(cadastro.data_nasc.iloc[0])\n",
        "print('Cadastro Ano: ', cadastro.nasc_ano.iloc[0])\n",
        "print('Cadastro Mes: ', cadastro.nasc_mes.iloc[0])\n",
        "print('Cadastro Dia: ', cadastro.nasc_dia.iloc[0])\n",
        "\n",
        "print(dados_medicos.data_nasc.iloc[0])\n",
        "print('dados_medicos Ano: ', dados_medicos.nasc_ano.iloc[0])\n",
        "print('dados_medicos Mes: ', dados_medicos.nasc_mes.iloc[0])\n",
        "print('dados_medicos Dia: ', dados_medicos.nasc_dia.iloc[0])"
      ],
      "execution_count": null,
      "outputs": []
    },
    {
      "cell_type": "markdown",
      "metadata": {
        "id": "PXaVhCy0IliM"
      },
      "source": [
        "Converter altura em número.\n",
        "\n",
        "`str.replace(old, new[, max])`\n",
        "\n",
        "> old -- substring a ser modificada\n",
        "\n",
        "> new -- a nova substring\n",
        "\n",
        "> max -- número de vezes que será substituída\n",
        "\n",
        "\n",
        "\n",
        "\n",
        "\n"
      ]
    },
    {
      "cell_type": "code",
      "metadata": {
        "id": "hNBEXGjNIqDm"
      },
      "source": [
        "dados_medicos.altura = dados_medicos.altura.str.replace(',','.').astype(float)\n",
        "\n",
        "print(dados_medicos.altura)"
      ],
      "execution_count": null,
      "outputs": []
    },
    {
      "cell_type": "markdown",
      "metadata": {
        "id": "qnd6sGMdMb3R"
      },
      "source": [
        "# **INDEXAÇÃO**\n",
        "\n",
        "Passo importante para ajudar a diminuir o número de comparações e evitar comparações desnecessárias. Ganho computacional.\n",
        "\n",
        "Lista possíveis blocking key (sorting key) e definir uma a ser utilizada.\n",
        "\n",
        "Criar os blocos os registros em bloco onde possíveis matches estão presentes.\n"
      ]
    },
    {
      "cell_type": "code",
      "metadata": {
        "id": "l9g7EDhGdanf"
      },
      "source": [
        "cadastro.groupby('nasc_mes').size()\n",
        "dados_medicos.groupby('nasc_mes').size() #Muitas pessoas com nascimento em 1900\n",
        "dados_medicos[dados_medicos['nasc_mes'] == 1]['data_nasc'].sort_values(ascending = False)\n",
        "\n",
        "blocos = pd.concat([cadastro.groupby('nasc_mes').size(), dados_medicos.groupby('nasc_mes').size()], axis = 1)\n",
        "blocos.columns = ['cadastro', 'dados_medicos']\n",
        "print(sum(blocos.cadastro * blocos.dados_medicos)) #12.254 ao invés de 144.624\n",
        "blocos.head()"
      ],
      "execution_count": null,
      "outputs": []
    },
    {
      "cell_type": "code",
      "metadata": {
        "id": "T667X0BVeZqI"
      },
      "source": [
        "dados_medicos[dados_medicos['data_nasc'] == '1900-01-01']"
      ],
      "execution_count": null,
      "outputs": []
    },
    {
      "cell_type": "code",
      "metadata": {
        "id": "yztsB26Leuv_"
      },
      "source": [
        "cadastro['cpf_0'] = cadastro.cpf.str[0]\n",
        "cadastro.groupby('cpf_0').size()"
      ],
      "execution_count": null,
      "outputs": []
    },
    {
      "cell_type": "code",
      "metadata": {
        "id": "6mZmlmx7mck8"
      },
      "source": [
        "dados_medicos['cpf_0'] = dados_medicos.cpf.str[0]\n",
        "dados_medicos.groupby('cpf_0').size()"
      ],
      "execution_count": null,
      "outputs": []
    },
    {
      "cell_type": "code",
      "metadata": {
        "id": "uPMYN-bOfF45"
      },
      "source": [
        "cadastro[cadastro['cpf_0'] == 0]"
      ],
      "execution_count": null,
      "outputs": []
    },
    {
      "cell_type": "code",
      "metadata": {
        "id": "pyXYgzGKfBe7"
      },
      "source": [
        "blocos_cpf = pd.concat([cadastro.groupby('cpf_0').size(), dados_medicos.groupby('cpf_0').size()], axis = 1)\n",
        "blocos_cpf.columns = ['cadastro', 'dados_medicos']\n",
        "print(sum(blocos_cpf.cadastro * blocos_cpf.dados_medicos)) #14.862 ao invés de 144.624"
      ],
      "execution_count": null,
      "outputs": []
    },
    {
      "cell_type": "code",
      "metadata": {
        "id": "aIMrI8LtgLVw"
      },
      "source": [
        "cadastro_blocos"
      ],
      "execution_count": null,
      "outputs": []
    },
    {
      "cell_type": "code",
      "metadata": {
        "id": "cTTu4RM2gukV"
      },
      "source": [
        "dados_medicos_cpf_limpo = dados_medicos[dados_medicos['cpf'] != '00000000000']"
      ],
      "execution_count": 88,
      "outputs": []
    },
    {
      "cell_type": "code",
      "metadata": {
        "id": "Wfc4jw6EhBWF"
      },
      "source": [
        "#criando disiconários vazios (no dicionario tenho 1 indice para cada registro):\n",
        "cadastro_blocos = {}\n",
        "dados_medicos_blocos = {}\n",
        "\n",
        "#dividir em listas:\n",
        "for i in range(10):\n",
        "    cadastro_blocos[i] = cadastro[cadastro['cpf_0'].astype(int) == i]\n",
        "    dados_medicos_blocos[i] = dados_medicos_cpf_limpo[dados_medicos_cpf_limpo['cpf_0'].astype(int) == i]"
      ],
      "execution_count": 89,
      "outputs": []
    },
    {
      "cell_type": "code",
      "metadata": {
        "id": "OPYYAuCshKVl"
      },
      "source": [
        "dados_medicos_blocos"
      ],
      "execution_count": null,
      "outputs": []
    },
    {
      "cell_type": "markdown",
      "metadata": {
        "id": "TV69w78Mhpi3"
      },
      "source": [
        "# **COMPARAÇÃO**"
      ]
    },
    {
      "cell_type": "markdown",
      "metadata": {
        "id": "9cECYMtwvTnp"
      },
      "source": [
        "Nessa sessão iremos comparar cada grupo, para verificar se são iguais ou não"
      ]
    },
    {
      "cell_type": "markdown",
      "metadata": {
        "id": "NtGNNfxMwQKJ"
      },
      "source": [
        "Utilização da biblioteca fuzzyWuzzy - função fuzzy.token_sort_ratio : primeiro é ordenado e em seguida cada token é comparado."
      ]
    },
    {
      "cell_type": "code",
      "metadata": {
        "id": "zy3F6uCWvRdZ"
      },
      "source": [
        "#Comparação par a par\n",
        "def comparaRegistros(registro1, registro2):\n",
        "    #cria dicionário com similaridades\n",
        "    sim = {}\n",
        "    #Compara o CPF, que são exatamente igual\n",
        "    if registro1['cpf'] == registro2['cpf']:\n",
        "        sim['cpf'] = 1\n",
        "    else:\n",
        "        sim['cpf'] = 0\n",
        "    \n",
        "    #Compara Data de Nascimento, que são exatamente igual\n",
        "    if registro1['data_nasc'] == registro2['data_nasc']:\n",
        "        sim['data_nasc'] = 1\n",
        "    elif (registro1['nasc_ano'] == registro2['nasc_ano']) and (registro1['nasc_mes'] == registro2['nasc_dia']) and (registro1['nasc_dia'] == registro2['nasc_mes']):\n",
        "        #Mês e dia trocado!!\n",
        "        sim['data_nasc'] = 1\n",
        "    else:\n",
        "        sim['data_nasc'] = 0\n",
        "\n",
        "    #Compara Nomes, que possuem similaridade de strings:\n",
        "    if registro1['nome'] == registro2['nome']:\n",
        "        sim['nome'] = 1\n",
        "    else:\n",
        "        sim['nome'] = fuzz.token_sort_ratio(registro1['nome'], registro2['nome'])/100\n",
        "        \n",
        "    return sim"
      ],
      "execution_count": 103,
      "outputs": []
    },
    {
      "cell_type": "code",
      "metadata": {
        "colab": {
          "base_uri": "https://localhost:8080/"
        },
        "id": "txlTqkUC6WMT",
        "outputId": "d07eb218-fdcf-450b-ba19-1cf532aa0475"
      },
      "source": [
        "pares = pd.DataFrame(columns = ['paciente', 'registro', 'similaridade'])\n",
        "\n",
        "for i in range(0,10):\n",
        "    print('CPF começando com {}'.format(i))\n",
        "    #Varrer todos os dados_medicos, comparando com os registros em cadastro:\n",
        "    for k, paciente in dados_medicos_blocos[i].iterrows():\n",
        "        for j, registro in cadastro_blocos[i].iterrows():\n",
        "            #print('Dados médicos: {}, {}, {}'.format(paciente.nome, paciente.cpf, paciente.data_nasc))\n",
        "            #print('Cadastro: {}, {}, {}'.format(registro.nome, registro.cpf, registro.data_nasc))\n",
        "            sim = comparaRegistros(paciente, registro)\n",
        "            #print('Similaridade: {}, {}, {}'.format(sim['nome'], sim['cpf'], sim['data_nasc']))\n",
        "            par = {'paciente' : paciente, 'registro' : registro, 'similaridade' : sim}\n",
        "            pares = pares.append(par, ignore_index = True)\n",
        "\n",
        "pares['simSum'] = 0\n",
        "\n",
        "matches = pd.DataFrame()\n",
        "matches_registros = pd.DataFrame()\n",
        "potenciais = pd.DataFrame()\n",
        "potenciais_registros = pd.DataFrame()\n",
        "non_matches = pd.DataFrame()\n",
        "non_matches_registros = pd.DataFrame()"
      ],
      "execution_count": 105,
      "outputs": [
        {
          "output_type": "stream",
          "text": [
            "CPF começando com 0\n",
            "CPF começando com 1\n",
            "CPF começando com 2\n",
            "CPF começando com 3\n",
            "CPF começando com 4\n",
            "CPF começando com 5\n",
            "CPF começando com 6\n",
            "CPF começando com 7\n",
            "CPF começando com 8\n",
            "CPF começando com 9\n"
          ],
          "name": "stdout"
        }
      ]
    },
    {
      "cell_type": "code",
      "metadata": {
        "colab": {
          "base_uri": "https://localhost:8080/",
          "height": 202
        },
        "id": "jh8hmupx7A1Z",
        "outputId": "f7f9ba33-c74d-4dc2-ba83-fb398e50b0ab"
      },
      "source": [
        "pares.head()"
      ],
      "execution_count": 106,
      "outputs": [
        {
          "output_type": "execute_result",
          "data": {
            "text/html": [
              "<div>\n",
              "<style scoped>\n",
              "    .dataframe tbody tr th:only-of-type {\n",
              "        vertical-align: middle;\n",
              "    }\n",
              "\n",
              "    .dataframe tbody tr th {\n",
              "        vertical-align: top;\n",
              "    }\n",
              "\n",
              "    .dataframe thead th {\n",
              "        text-align: right;\n",
              "    }\n",
              "</style>\n",
              "<table border=\"1\" class=\"dataframe\">\n",
              "  <thead>\n",
              "    <tr style=\"text-align: right;\">\n",
              "      <th></th>\n",
              "      <th>paciente</th>\n",
              "      <th>registro</th>\n",
              "      <th>similaridade</th>\n",
              "      <th>simSum</th>\n",
              "    </tr>\n",
              "  </thead>\n",
              "  <tbody>\n",
              "    <tr>\n",
              "      <th>0</th>\n",
              "      <td>nome                  Lucca Carlos Ferreira\n",
              "da...</td>\n",
              "      <td>nome                        Lúcia Carolina Luz...</td>\n",
              "      <td>{'cpf': 0, 'data_nasc': 0, 'nome': 0.47}</td>\n",
              "      <td>0</td>\n",
              "    </tr>\n",
              "    <tr>\n",
              "      <th>1</th>\n",
              "      <td>nome                  Lucca Carlos Ferreira\n",
              "da...</td>\n",
              "      <td>nome                             Sabrina Apare...</td>\n",
              "      <td>{'cpf': 0, 'data_nasc': 0, 'nome': 0.37}</td>\n",
              "      <td>0</td>\n",
              "    </tr>\n",
              "    <tr>\n",
              "      <th>2</th>\n",
              "      <td>nome                  Lucca Carlos Ferreira\n",
              "da...</td>\n",
              "      <td>nome                                     Igor ...</td>\n",
              "      <td>{'cpf': 0, 'data_nasc': 0, 'nome': 0.35}</td>\n",
              "      <td>0</td>\n",
              "    </tr>\n",
              "    <tr>\n",
              "      <th>3</th>\n",
              "      <td>nome                  Lucca Carlos Ferreira\n",
              "da...</td>\n",
              "      <td>nome                                       Tia...</td>\n",
              "      <td>{'cpf': 0, 'data_nasc': 0, 'nome': 0.32}</td>\n",
              "      <td>0</td>\n",
              "    </tr>\n",
              "    <tr>\n",
              "      <th>4</th>\n",
              "      <td>nome                  Lucca Carlos Ferreira\n",
              "da...</td>\n",
              "      <td>nome                               Gustavo Ant...</td>\n",
              "      <td>{'cpf': 0, 'data_nasc': 0, 'nome': 0.3}</td>\n",
              "      <td>0</td>\n",
              "    </tr>\n",
              "  </tbody>\n",
              "</table>\n",
              "</div>"
            ],
            "text/plain": [
              "                                            paciente  ... simSum\n",
              "0  nome                  Lucca Carlos Ferreira\n",
              "da...  ...      0\n",
              "1  nome                  Lucca Carlos Ferreira\n",
              "da...  ...      0\n",
              "2  nome                  Lucca Carlos Ferreira\n",
              "da...  ...      0\n",
              "3  nome                  Lucca Carlos Ferreira\n",
              "da...  ...      0\n",
              "4  nome                  Lucca Carlos Ferreira\n",
              "da...  ...      0\n",
              "\n",
              "[5 rows x 4 columns]"
            ]
          },
          "metadata": {
            "tags": []
          },
          "execution_count": 106
        }
      ]
    },
    {
      "cell_type": "markdown",
      "metadata": {
        "id": "WoQrCT-xxpvN"
      },
      "source": [
        "# **CLASSIFICAÇÃO**"
      ]
    },
    {
      "cell_type": "code",
      "metadata": {
        "id": "3_xLln8J9UgZ"
      },
      "source": [
        "#Classificação\n",
        "for idx, par in pares.iterrows():\n",
        "    sim = par['similaridade']\n",
        "    simSum = sim['cpf'] + sim['nome'] + sim['data_nasc']\n",
        "    #Possibilidades - dar peso diferentes aos critérios\n",
        "    pares.loc[idx, 'simSum'] = simSum\n",
        "    if simSum == 2:\n",
        "        matches = matches.append(pares.loc[idx])\n",
        "        matches_registros = matches_registros.append(pares.loc[idx, 'registro'])\n",
        "    elif simSum >= 1.5:\n",
        "        potenciais = potenciais.append(pares.loc[idx])\n",
        "        potenciais_registros = potenciais_registros.append(pares.loc[idx, 'registro'])\n",
        "    else:\n",
        "        non_matches = non_matches.append(pares.loc[idx])\n",
        "        non_matches_registros = non_matches_registros.append(pares.loc[idx, 'registro'])\n",
        "\n",
        "is_missing = dados_medicos.merge(matches_registros, how = 'left', \n",
        "                on = ['nome', 'cpf', 'data_nasc'], indicator = True)\n",
        "is_missing = is_missing[is_missing['_merge'] =='left_only'][['nome', 'data_nasc', 'cpf']]"
      ],
      "execution_count": 145,
      "outputs": []
    },
    {
      "cell_type": "code",
      "metadata": {
        "colab": {
          "base_uri": "https://localhost:8080/"
        },
        "id": "sSCmW6mG_1B7",
        "outputId": "cc8b947e-1c52-4986-faf3-055488486460"
      },
      "source": [
        "print('matches: ', matches.shape)\n",
        "print('potenciais: ', potenciais.shape)\n",
        "print('non_matches: ', non_matches.shape)"
      ],
      "execution_count": 161,
      "outputs": [
        {
          "output_type": "stream",
          "text": [
            "matches:  (315, 4)\n",
            "potenciais:  (1467, 4)\n",
            "non_matches:  (72144, 4)\n"
          ],
          "name": "stdout"
        }
      ]
    },
    {
      "cell_type": "code",
      "metadata": {
        "id": "cYKBgSwE__Lm"
      },
      "source": [
        "#casos que precisamos rever manualmente:\n",
        "potenciais.head(10)"
      ],
      "execution_count": null,
      "outputs": []
    },
    {
      "cell_type": "code",
      "metadata": {
        "id": "Ztka6MqDBhBi"
      },
      "source": [
        "potenciais[potenciais['simSum'] == 2].iloc[0].paciente"
      ],
      "execution_count": null,
      "outputs": []
    },
    {
      "cell_type": "code",
      "metadata": {
        "id": "4xE7v4afBqoN"
      },
      "source": [
        "potenciais[potenciais['simSum'] == 2].iloc[0].registro"
      ],
      "execution_count": null,
      "outputs": []
    },
    {
      "cell_type": "markdown",
      "metadata": {
        "id": "69BLdsxg_O8z"
      },
      "source": [
        "# **AVALIAÇÃO**"
      ]
    },
    {
      "cell_type": "code",
      "metadata": {
        "colab": {
          "base_uri": "https://localhost:8080/",
          "height": 964
        },
        "id": "1OEd9afC_nqH",
        "outputId": "8efa528a-66e8-49b2-df47-d8da1aa8a283"
      },
      "source": [
        "#Avaliação\n",
        "%load_ext google.colab.data_table\n",
        "potenciais[potenciais['simSum'] >= 1.8].sample(10)\n",
        "#True Positive: 10\n",
        "#False Positive: 0"
      ],
      "execution_count": 159,
      "outputs": [
        {
          "output_type": "stream",
          "text": [
            "The google.colab.data_table extension is already loaded. To reload it, use:\n",
            "  %reload_ext google.colab.data_table\n"
          ],
          "name": "stdout"
        },
        {
          "output_type": "execute_result",
          "data": {
            "application/vnd.google.colaboratory.module+javascript": "\n      import \"https://ssl.gstatic.com/colaboratory/data_table/a6224c040fa35dcf/data_table.js\";\n\n      window.createDataTable({\n        data: [[{\n            'v': 10236,\n            'f': \"10236\",\n        },\n\"nome                   Valentina Stefany Alana Cardos\\ndata_nasc                         1953-03-23 00:00:00\\ncpf                                       76298423761\\ntipo_sanguineo                                    AB-\\npeso                                               71\\naltura                                           1.64\\nnome_array        [Valentina, Stefany, Alana, Cardos]\\nprimeiro_nome                               Valentina\\nsobrenome                                      Cardos\\nnasc_ano                                         1953\\nnasc_mes                                            3\\nnasc_dia                                           23\\ncpf_0                                               7\\nName: 223, dtype: object\",\n\"nome                               Valentina Stefany Alana Cardoso\\ndata_nasc                                      1953-03-23 00:00:00\\ncpf                                                    76298423761\\nmae                                             Francisca Adriana \\ncelular                                                  999976430\\nemail            valentinastefanyalanacardoso..valentinastefany...\\ntelefone_fixo                                             26584091\\nnome_array                    [Valentina, Stefany, Alana, Cardoso]\\nprimeiro_nome                                            Valentina\\nsobrenome                                                  Cardoso\\nnasc_ano                                                      1953\\nnasc_mes                                                         3\\nnasc_dia                                                        23\\ncpf_0                                                            7\\nName: 4, dtype: object\",\n{\n            'v': 2.98,\n            'f': \"2.98\",\n        },\n\"{'cpf': 1, 'data_nasc': 1, 'nome': 0.98}\"],\n [{\n            'v': 6167,\n            'f': \"6167\",\n        },\n\"nome                  Henrique Marcos Peixoto\\ndata_nasc                 1942-05-24 00:00:00\\ncpf                               54452605184\\ntipo_sanguineo                            AB+\\npeso                                       66\\naltura                                   1.66\\nnome_array        [Henrique, Marcos, Peixoto]\\nprimeiro_nome                        Henrique\\nsobrenome                             Peixoto\\nnasc_ano                                 1942\\nnasc_mes                                    5\\nnasc_dia                                   24\\ncpf_0                                       5\\nName: 41, dtype: object\",\n\"nome                               Henrique Marcos Peixoto\\ndata_nasc                              1942-05-24 00:00:00\\ncpf                                            54452605184\\nmae                                        Adriana Louise \\ncelular                                          993455671\\nemail            henriquemarcospeixoto-84@bucaneiro.com.br\\ntelefone_fixo                                     25692073\\nnome_array                     [Henrique, Marcos, Peixoto]\\nprimeiro_nome                                     Henrique\\nsobrenome                                          Peixoto\\nnasc_ano                                              1942\\nnasc_mes                                                 5\\nnasc_dia                                                24\\ncpf_0                                                    5\\nName: 163, dtype: object\",\n{\n            'v': 3.0,\n            'f': \"3.0\",\n        },\n\"{'cpf': 1, 'data_nasc': 1, 'nome': 1}\"],\n [{\n            'v': 9983,\n            'f': \"9983\",\n        },\n\"nome                  Enrico Iago Barbosa\\ndata_nasc             1954-06-25 00:00:00\\ncpf                           74166734024\\ntipo_sanguineo                         O-\\npeso                                   96\\naltura                               1.83\\nnome_array        [Enrico, Iago, Barbosa]\\nprimeiro_nome                      Enrico\\nsobrenome                         Barbosa\\nnasc_ano                             1954\\nnasc_mes                                6\\nnasc_dia                               25\\ncpf_0                                   7\\nName: 185, dtype: object\",\n\"nome                                           Enrico Iago Barbosa\\ndata_nasc                                      1954-06-25 00:00:00\\ncpf                                                    74166734024\\nmae                                              Vit\\u00f3ria Carolina \\ncelular                                                  991088164\\nemail            enricoiagobarbosa__enricoiagobarbosa@damha.com.br\\ntelefone_fixo                                             25589504\\nnome_array                                 [Enrico, Iago, Barbosa]\\nprimeiro_nome                                               Enrico\\nsobrenome                                                  Barbosa\\nnasc_ano                                                      1954\\nnasc_mes                                                         6\\nnasc_dia                                                        25\\ncpf_0                                                            7\\nName: 285, dtype: object\",\n{\n            'v': 3.0,\n            'f': \"3.0\",\n        },\n\"{'cpf': 1, 'data_nasc': 1, 'nome': 1}\"],\n [{\n            'v': 3007,\n            'f': \"3007\",\n        },\n\"nome                  Giovanna Milena Costa\\ndata_nasc               1973-10-15 00:00:00\\ncpf                             30436667711\\ntipo_sanguineo                           A+\\npeso                                     80\\naltura                                 1.57\\nnome_array        [Giovanna, Milena, Costa]\\nprimeiro_nome                      Giovanna\\nsobrenome                             Costa\\nnasc_ano                               1973\\nnasc_mes                                 10\\nnasc_dia                                 15\\ncpf_0                                     3\\nName: 27, dtype: object\",\n\"nome                                  Giovanna Milena Costa\\ndata_nasc                               1973-10-15 00:00:00\\ncpf                                             30436667711\\nmae                                        Louise Carolina \\ncelular                                           988072354\\nemail            ggiovannamilenacosta@viavaleseguros.com.br\\ntelefone_fixo                                      27274414\\nnome_array                        [Giovanna, Milena, Costa]\\nprimeiro_nome                                      Giovanna\\nsobrenome                                             Costa\\nnasc_ano                                               1973\\nnasc_mes                                                 10\\nnasc_dia                                                 15\\ncpf_0                                                     3\\nName: 222, dtype: object\",\n{\n            'v': 3.0,\n            'f': \"3.0\",\n        },\n\"{'cpf': 1, 'data_nasc': 1, 'nome': 1}\"],\n [{\n            'v': 11876,\n            'f': \"11876\",\n        },\n\"nome                  Ruan Theo Duarte\\ndata_nasc          1900-01-01 00:00:00\\ncpf                        91534140980\\ntipo_sanguineo                      O-\\npeso                                61\\naltura                            1.77\\nnome_array        [Ruan, Theo, Duarte]\\nprimeiro_nome                     Ruan\\nsobrenome                       Duarte\\nnasc_ano                          1900\\nnasc_mes                             1\\nnasc_dia                             1\\ncpf_0                                9\\nName: 74, dtype: object\",\n\"nome                      Ruan Theo Duarte\\ndata_nasc              1943-05-27 00:00:00\\ncpf                            91534140980\\nmae                  Amanda Cec\\u00edlia Clara \\ncelular                          993753990\\nemail            ruantheoduarte-99@slb.com\\ntelefone_fixo                     37011747\\nnome_array            [Ruan, Theo, Duarte]\\nprimeiro_nome                         Ruan\\nsobrenome                           Duarte\\nnasc_ano                              1943\\nnasc_mes                                 5\\nnasc_dia                                27\\ncpf_0                                    9\\nName: 231, dtype: object\",\n{\n            'v': 2.0,\n            'f': \"2.0\",\n        },\n\"{'cpf': 1, 'data_nasc': 0, 'nome': 1}\"],\n [{\n            'v': 1152,\n            'f': \"1152\",\n        },\n\"nome                   Anthoni Raimundo Corte Real\\ndata_nasc                      1900-01-01 00:00:00\\ncpf                                    19003075298\\ntipo_sanguineo                                  B+\\npeso                                            54\\naltura                                        1.89\\nnome_array        [Anthoni, Raimundo, Corte, Real]\\nprimeiro_nome                              Anthoni\\nsobrenome                                     Real\\nnasc_ano                                      1900\\nnasc_mes                                         1\\nnasc_dia                                         1\\ncpf_0                                            1\\nName: 6, dtype: object\",\n\"nome                               Anthony Raimundo Corte Real\\ndata_nasc                                  1944-06-18 00:00:00\\ncpf                                                19003075298\\nmae                                         Carla Luzia Luana \\ncelular                                              986725932\\nemail            anthonyraimundocortereal_@catsfeelings.com.br\\ntelefone_fixo                                         29631907\\nnome_array                    [Anthony, Raimundo, Corte, Real]\\nprimeiro_nome                                          Anthony\\nsobrenome                                                 Real\\nnasc_ano                                                  1944\\nnasc_mes                                                     6\\nnasc_dia                                                    18\\ncpf_0                                                        1\\nName: 52, dtype: object\",\n{\n            'v': 1.96,\n            'f': \"1.96\",\n        },\n\"{'cpf': 1, 'data_nasc': 0, 'nome': 0.96}\"],\n [{\n            'v': 10236,\n            'f': \"10236\",\n        },\n\"nome                   Valentina Stefany Alana Cardos\\ndata_nasc                         1953-03-23 00:00:00\\ncpf                                       76298423761\\ntipo_sanguineo                                    AB-\\npeso                                               71\\naltura                                           1.64\\nnome_array        [Valentina, Stefany, Alana, Cardos]\\nprimeiro_nome                               Valentina\\nsobrenome                                      Cardos\\nnasc_ano                                         1953\\nnasc_mes                                            3\\nnasc_dia                                           23\\ncpf_0                                               7\\nName: 223, dtype: object\",\n\"nome                               Valentina Stefany Alana Cardoso\\ndata_nasc                                      1953-03-23 00:00:00\\ncpf                                                    76298423761\\nmae                                             Francisca Adriana \\ncelular                                                  999976430\\nemail            valentinastefanyalanacardoso..valentinastefany...\\ntelefone_fixo                                             26584091\\nnome_array                    [Valentina, Stefany, Alana, Cardoso]\\nprimeiro_nome                                            Valentina\\nsobrenome                                                  Cardoso\\nnasc_ano                                                      1953\\nnasc_mes                                                         3\\nnasc_dia                                                        23\\ncpf_0                                                            7\\nName: 4, dtype: object\",\n{\n            'v': 2.98,\n            'f': \"2.98\",\n        },\n\"{'cpf': 1, 'data_nasc': 1, 'nome': 0.98}\"],\n [{\n            'v': 4285,\n            'f': \"4285\",\n        },\n\"nome                  C\\u00e9sar Edson Assunc\\u00e3o\\ndata_nasc              1984-12-06 00:00:00\\ncpf                            36835464097\\ntipo_sanguineo                          O+\\npeso                                    93\\naltura                                1.61\\nnome_array        [C\\u00e9sar, Edson, Assunc\\u00e3o]\\nprimeiro_nome                        C\\u00e9sar\\nsobrenome                         Assunc\\u00e3o\\nnasc_ano                              1984\\nnasc_mes                                12\\nnasc_dia                                 6\\ncpf_0                                    3\\nName: 339, dtype: object\",\n\"nome                                          C\\u00e9sar Edson Assun\\u00e7\\u00e3o\\ndata_nasc                                      1984-12-06 00:00:00\\ncpf                                                    36835464097\\nmae                                        Aparecida Mariane Lara \\ncelular                                                  999402873\\nemail            cesaredsonassuncao..cesaredsonassuncao@royalpl...\\ntelefone_fixo                                             38109988\\nnome_array                                [C\\u00e9sar, Edson, Assun\\u00e7\\u00e3o]\\nprimeiro_nome                                                C\\u00e9sar\\nsobrenome                                                 Assun\\u00e7\\u00e3o\\nnasc_ano                                                      1984\\nnasc_mes                                                        12\\nnasc_dia                                                         6\\ncpf_0                                                            3\\nName: 238, dtype: object\",\n{\n            'v': 2.9699999999999998,\n            'f': \"2.9699999999999998\",\n        },\n\"{'cpf': 1, 'data_nasc': 1, 'nome': 0.97}\"],\n [{\n            'v': 5177,\n            'f': \"5177\",\n        },\n\"nome                   Helena Isabella Fabiana Apar\\u00edc\\ndata_nasc                         1962-01-14 00:00:00\\ncpf                                       41785755463\\ntipo_sanguineo                                     O-\\npeso                                               67\\naltura                                           1.61\\nnome_array        [Helena, Isabella, Fabiana, Apar\\u00edc]\\nprimeiro_nome                                  Helena\\nsobrenome                                      Apar\\u00edc\\nnasc_ano                                         1962\\nnasc_mes                                            1\\nnasc_dia                                           14\\ncpf_0                                               4\\nName: 211, dtype: object\",\n\"nome                              Helena Isabella Fabiana Apar\\u00edcio\\ndata_nasc                                      1962-01-14 00:00:00\\ncpf                                                    41785755463\\nmae                                       Sophie Isabella Isadora \\ncelular                                                  983489332\\nemail            helenaisabellafabianaaparicio..helenaisabellaf...\\ntelefone_fixo                                             37969357\\nnome_array                   [Helena, Isabella, Fabiana, Apar\\u00edcio]\\nprimeiro_nome                                               Helena\\nsobrenome                                                 Apar\\u00edcio\\nnasc_ano                                                      1962\\nnasc_mes                                                         1\\nnasc_dia                                                        14\\ncpf_0                                                            4\\nName: 59, dtype: object\",\n{\n            'v': 2.9699999999999998,\n            'f': \"2.9699999999999998\",\n        },\n\"{'cpf': 1, 'data_nasc': 1, 'nome': 0.97}\"],\n [{\n            'v': 4732,\n            'f': \"4732\",\n        },\n\"nome                   Alexandre Gustavo Leonardo Nog\\ndata_nasc                         1952-04-27 00:00:00\\ncpf                                       46311545942\\ntipo_sanguineo                                     B+\\npeso                                               63\\naltura                                           1.74\\nnome_array        [Alexandre, Gustavo, Leonardo, Nog]\\nprimeiro_nome                               Alexandre\\nsobrenome                                         Nog\\nnasc_ano                                         1952\\nnasc_mes                                            4\\nnasc_dia                                           27\\ncpf_0                                               4\\nName: 117, dtype: object\",\n\"nome                        Alexandre Gustavo Leonardo Nogueira\\ndata_nasc                                   1952-04-27 00:00:00\\ncpf                                                 46311545942\\nmae                                               Elza Marcela \\ncelular                                               994627464\\nemail            aalexandregustavoleonardonogueira@damha.com.br\\ntelefone_fixo                                          27524667\\nnome_array             [Alexandre, Gustavo, Leonardo, Nogueira]\\nprimeiro_nome                                         Alexandre\\nsobrenome                                              Nogueira\\nnasc_ano                                                   1952\\nnasc_mes                                                      4\\nnasc_dia                                                     27\\ncpf_0                                                         4\\nName: 89, dtype: object\",\n{\n            'v': 2.92,\n            'f': \"2.92\",\n        },\n\"{'cpf': 1, 'data_nasc': 1, 'nome': 0.92}\"]],\n        columns: [[\"number\", \"index\"], [\"string\", \"paciente\"], [\"string\", \"registro\"], [\"number\", \"simSum\"], [\"string\", \"similaridade\"]],\n        columnOptions: [{\"width\": \"1px\", \"className\": \"index_column\"}],\n        rowsPerPage: 25,\n        helpUrl: \"https://colab.research.google.com/notebooks/data_table.ipynb\",\n        suppressOutputScrolling: true,\n        minimumWidth: undefined,\n      });\n    ",
            "text/html": [
              "<div>\n",
              "<style scoped>\n",
              "    .dataframe tbody tr th:only-of-type {\n",
              "        vertical-align: middle;\n",
              "    }\n",
              "\n",
              "    .dataframe tbody tr th {\n",
              "        vertical-align: top;\n",
              "    }\n",
              "\n",
              "    .dataframe thead th {\n",
              "        text-align: right;\n",
              "    }\n",
              "</style>\n",
              "<table border=\"1\" class=\"dataframe\">\n",
              "  <thead>\n",
              "    <tr style=\"text-align: right;\">\n",
              "      <th></th>\n",
              "      <th>paciente</th>\n",
              "      <th>registro</th>\n",
              "      <th>simSum</th>\n",
              "      <th>similaridade</th>\n",
              "    </tr>\n",
              "  </thead>\n",
              "  <tbody>\n",
              "    <tr>\n",
              "      <th>10236</th>\n",
              "      <td>nome                   Valentina Stefany Alana...</td>\n",
              "      <td>nome                               Valentina S...</td>\n",
              "      <td>2.98</td>\n",
              "      <td>{'cpf': 1, 'data_nasc': 1, 'nome': 0.98}</td>\n",
              "    </tr>\n",
              "    <tr>\n",
              "      <th>6167</th>\n",
              "      <td>nome                  Henrique Marcos Peixoto\n",
              "...</td>\n",
              "      <td>nome                               Henrique Ma...</td>\n",
              "      <td>3.00</td>\n",
              "      <td>{'cpf': 1, 'data_nasc': 1, 'nome': 1}</td>\n",
              "    </tr>\n",
              "    <tr>\n",
              "      <th>9983</th>\n",
              "      <td>nome                  Enrico Iago Barbosa\n",
              "data...</td>\n",
              "      <td>nome                                          ...</td>\n",
              "      <td>3.00</td>\n",
              "      <td>{'cpf': 1, 'data_nasc': 1, 'nome': 1}</td>\n",
              "    </tr>\n",
              "    <tr>\n",
              "      <th>3007</th>\n",
              "      <td>nome                  Giovanna Milena Costa\n",
              "da...</td>\n",
              "      <td>nome                                  Giovanna...</td>\n",
              "      <td>3.00</td>\n",
              "      <td>{'cpf': 1, 'data_nasc': 1, 'nome': 1}</td>\n",
              "    </tr>\n",
              "    <tr>\n",
              "      <th>11876</th>\n",
              "      <td>nome                  Ruan Theo Duarte\n",
              "data_na...</td>\n",
              "      <td>nome                      Ruan Theo Duarte\n",
              "dat...</td>\n",
              "      <td>2.00</td>\n",
              "      <td>{'cpf': 1, 'data_nasc': 0, 'nome': 1}</td>\n",
              "    </tr>\n",
              "    <tr>\n",
              "      <th>1152</th>\n",
              "      <td>nome                   Anthoni Raimundo Corte ...</td>\n",
              "      <td>nome                               Anthony Rai...</td>\n",
              "      <td>1.96</td>\n",
              "      <td>{'cpf': 1, 'data_nasc': 0, 'nome': 0.96}</td>\n",
              "    </tr>\n",
              "    <tr>\n",
              "      <th>10236</th>\n",
              "      <td>nome                   Valentina Stefany Alana...</td>\n",
              "      <td>nome                               Valentina S...</td>\n",
              "      <td>2.98</td>\n",
              "      <td>{'cpf': 1, 'data_nasc': 1, 'nome': 0.98}</td>\n",
              "    </tr>\n",
              "    <tr>\n",
              "      <th>4285</th>\n",
              "      <td>nome                  César Edson Assuncão\n",
              "dat...</td>\n",
              "      <td>nome                                          ...</td>\n",
              "      <td>2.97</td>\n",
              "      <td>{'cpf': 1, 'data_nasc': 1, 'nome': 0.97}</td>\n",
              "    </tr>\n",
              "    <tr>\n",
              "      <th>5177</th>\n",
              "      <td>nome                   Helena Isabella Fabiana...</td>\n",
              "      <td>nome                              Helena Isabe...</td>\n",
              "      <td>2.97</td>\n",
              "      <td>{'cpf': 1, 'data_nasc': 1, 'nome': 0.97}</td>\n",
              "    </tr>\n",
              "    <tr>\n",
              "      <th>4732</th>\n",
              "      <td>nome                   Alexandre Gustavo Leona...</td>\n",
              "      <td>nome                        Alexandre Gustavo ...</td>\n",
              "      <td>2.92</td>\n",
              "      <td>{'cpf': 1, 'data_nasc': 1, 'nome': 0.92}</td>\n",
              "    </tr>\n",
              "  </tbody>\n",
              "</table>\n",
              "</div>"
            ],
            "text/plain": [
              "                                                paciente  ...                              similaridade\n",
              "10236  nome                   Valentina Stefany Alana...  ...  {'cpf': 1, 'data_nasc': 1, 'nome': 0.98}\n",
              "6167   nome                  Henrique Marcos Peixoto\n",
              "...  ...     {'cpf': 1, 'data_nasc': 1, 'nome': 1}\n",
              "9983   nome                  Enrico Iago Barbosa\n",
              "data...  ...     {'cpf': 1, 'data_nasc': 1, 'nome': 1}\n",
              "3007   nome                  Giovanna Milena Costa\n",
              "da...  ...     {'cpf': 1, 'data_nasc': 1, 'nome': 1}\n",
              "11876  nome                  Ruan Theo Duarte\n",
              "data_na...  ...     {'cpf': 1, 'data_nasc': 0, 'nome': 1}\n",
              "1152   nome                   Anthoni Raimundo Corte ...  ...  {'cpf': 1, 'data_nasc': 0, 'nome': 0.96}\n",
              "10236  nome                   Valentina Stefany Alana...  ...  {'cpf': 1, 'data_nasc': 1, 'nome': 0.98}\n",
              "4285   nome                  César Edson Assuncão\n",
              "dat...  ...  {'cpf': 1, 'data_nasc': 1, 'nome': 0.97}\n",
              "5177   nome                   Helena Isabella Fabiana...  ...  {'cpf': 1, 'data_nasc': 1, 'nome': 0.97}\n",
              "4732   nome                   Alexandre Gustavo Leona...  ...  {'cpf': 1, 'data_nasc': 1, 'nome': 0.92}\n",
              "\n",
              "[10 rows x 4 columns]"
            ]
          },
          "metadata": {
            "tags": []
          },
          "execution_count": 159
        }
      ]
    },
    {
      "cell_type": "code",
      "metadata": {
        "colab": {
          "base_uri": "https://localhost:8080/",
          "height": 931
        },
        "id": "7BnZsSMhDVFK",
        "outputId": "95a2bf29-11af-439b-8a94-8f245e537031"
      },
      "source": [
        "non_matches[non_matches['simSum']> 1.3].sample(10)\n",
        "#True Negative: 2\n",
        "#False Negative: 8"
      ],
      "execution_count": 157,
      "outputs": [
        {
          "output_type": "execute_result",
          "data": {
            "application/vnd.google.colaboratory.module+javascript": "\n      import \"https://ssl.gstatic.com/colaboratory/data_table/a6224c040fa35dcf/data_table.js\";\n\n      window.createDataTable({\n        data: [[{\n            'v': 10490,\n            'f': \"10490\",\n        },\n\"nome                   Davi Francisco Isaac Mata\\ndata_nasc                    1900-01-01 00:00:00\\ncpf                                  76236274061\\ntipo_sanguineo                               AB-\\npeso                                          84\\naltura                                      1.69\\nnome_array        [Davi, Francisco, Isaac, Mata]\\nprimeiro_nome                               Davi\\nsobrenome                                   Mata\\nnasc_ano                                    1900\\nnasc_mes                                       1\\nnasc_dia                                       1\\ncpf_0                                          7\\nName: 279, dtype: object\",\n\"nome                         Davi Francisco Isaac da Mata\\ndata_nasc                             1946-04-26 00:00:00\\ncpf                                           76236274061\\nmae                                 Giovana S\\u00f4nia Aurora \\ncelular                                         985274926\\nemail            ddavifranciscoisaacdamata@sunrise.com.br\\ntelefone_fixo                                    27999584\\nnome_array             [Davi, Francisco, Isaac, da, Mata]\\nprimeiro_nome                                        Davi\\nsobrenome                                            Mata\\nnasc_ano                                             1946\\nnasc_mes                                                4\\nnasc_dia                                               26\\ncpf_0                                                   7\\nName: 150, dtype: object\",\n{\n            'v': 1.94,\n            'f': \"1.94\",\n        },\n\"{'cpf': 1, 'data_nasc': 0, 'nome': 0.94}\"],\n [{\n            'v': 10378,\n            'f': \"10378\",\n        },\n\"nome                   Maite Luna Ayla Nascimento\\ndata_nasc                     1900-01-01 00:00:00\\ncpf                                   75595601485\\ntipo_sanguineo                                 A-\\npeso                                           78\\naltura                                        1.7\\nnome_array        [Maite, Luna, Ayla, Nascimento]\\nprimeiro_nome                               Maite\\nsobrenome                              Nascimento\\nnasc_ano                                     1900\\nnasc_mes                                        1\\nnasc_dia                                        1\\ncpf_0                                           7\\nName: 270, dtype: object\",\n\"nome                   Mait\\u00ea Luna Ayla Nascimento\\ndata_nasc                     1972-12-04 00:00:00\\ncpf                                   75595601485\\nmae                           Heloisa Sebastiana \\ncelular                                 993447123\\nemail            mmaitelunaaylanascimento@ovi.com\\ntelefone_fixo                            36092018\\nnome_array        [Mait\\u00ea, Luna, Ayla, Nascimento]\\nprimeiro_nome                               Mait\\u00ea\\nsobrenome                              Nascimento\\nnasc_ano                                     1972\\nnasc_mes                                       12\\nnasc_dia                                        4\\ncpf_0                                           7\\nName: 364, dtype: object\",\n{\n            'v': 1.98,\n            'f': \"1.98\",\n        },\n\"{'cpf': 1, 'data_nasc': 0, 'nome': 0.98}\"],\n [{\n            'v': 807,\n            'f': \"807\",\n        },\n\"nome                  Aparecida Mariah Cunha\\ndata_nasc                1900-01-01 00:00:00\\ncpf                              03044018978\\ntipo_sanguineo                            O+\\npeso                                      66\\naltura                                  1.85\\nnome_array        [Aparecida, Mariah, Cunha]\\nprimeiro_nome                      Aparecida\\nsobrenome                              Cunha\\nnasc_ano                                1900\\nnasc_mes                                   1\\nnasc_dia                                   1\\ncpf_0                                      0\\nName: 276, dtype: object\",\n\"nome                                     Aparecida Mariah da Cunha\\ndata_nasc                                      1961-05-06 00:00:00\\ncpf                                                    03044018978\\nmae                                         Sophia Clarice Emilly \\ncelular                                                  995951301\\nemail            aparecidamariahdacunha..aparecidamariahdacunha...\\ntelefone_fixo                                             38772766\\nnome_array                          [Aparecida, Mariah, da, Cunha]\\nprimeiro_nome                                            Aparecida\\nsobrenome                                                    Cunha\\nnasc_ano                                                      1961\\nnasc_mes                                                         5\\nnasc_dia                                                         6\\ncpf_0                                                            0\\nName: 332, dtype: object\",\n{\n            'v': 1.94,\n            'f': \"1.94\",\n        },\n\"{'cpf': 1, 'data_nasc': 0, 'nome': 0.94}\"],\n [{\n            'v': 259,\n            'f': \"259\",\n        },\n\"nome                   L\\u00facia C Luzia Almada\\ndata_nasc               1900-11-11 00:00:00\\ncpf                             06480417194\\ntipo_sanguineo                           A-\\npeso                                     49\\naltura                                 1.54\\nnome_array        [L\\u00facia, C, Luzia, Almada]\\nprimeiro_nome                         L\\u00facia\\nsobrenome                            Almada\\nnasc_ano                               1900\\nnasc_mes                                 11\\nnasc_dia                                 11\\ncpf_0                                     0\\nName: 87, dtype: object\",\n\"nome                        L\\u00facia Carolina Luzia Almada\\ndata_nasc                           1946-11-11 00:00:00\\ncpf                                         06480417194\\nmae                                  Stefany Teresinha \\ncelular                                       997275887\\nemail            luciacarolinaluziaalmada_@santarte.com\\ntelefone_fixo                                  27446850\\nnome_array             [L\\u00facia, Carolina, Luzia, Almada]\\nprimeiro_nome                                     L\\u00facia\\nsobrenome                                        Almada\\nnasc_ano                                           1946\\nnasc_mes                                             11\\nnasc_dia                                             11\\ncpf_0                                                 0\\nName: 1, dtype: object\",\n{\n            'v': 1.8399999999999999,\n            'f': \"1.8399999999999999\",\n        },\n\"{'cpf': 1, 'data_nasc': 0, 'nome': 0.84}\"],\n [{\n            'v': 259,\n            'f': \"259\",\n        },\n\"nome                   L\\u00facia C Luzia Almada\\ndata_nasc               1900-11-11 00:00:00\\ncpf                             06480417194\\ntipo_sanguineo                           A-\\npeso                                     49\\naltura                                 1.54\\nnome_array        [L\\u00facia, C, Luzia, Almada]\\nprimeiro_nome                         L\\u00facia\\nsobrenome                            Almada\\nnasc_ano                               1900\\nnasc_mes                                 11\\nnasc_dia                                 11\\ncpf_0                                     0\\nName: 87, dtype: object\",\n\"nome                        L\\u00facia Carolina Luzia Almada\\ndata_nasc                           1946-11-11 00:00:00\\ncpf                                         06480417194\\nmae                                  Stefany Teresinha \\ncelular                                       997275887\\nemail            luciacarolinaluziaalmada_@santarte.com\\ntelefone_fixo                                  27446850\\nnome_array             [L\\u00facia, Carolina, Luzia, Almada]\\nprimeiro_nome                                     L\\u00facia\\nsobrenome                                        Almada\\nnasc_ano                                           1946\\nnasc_mes                                             11\\nnasc_dia                                             11\\ncpf_0                                                 0\\nName: 1, dtype: object\",\n{\n            'v': 1.8399999999999999,\n            'f': \"1.8399999999999999\",\n        },\n\"{'cpf': 1, 'data_nasc': 0, 'nome': 0.84}\"],\n [{\n            'v': 892,\n            'f': \"892\",\n        },\n\"nome                  Gustavo Anthony Santos\\ndata_nasc                1900-01-01 00:00:00\\ncpf                              09874775106\\ntipo_sanguineo                            A+\\npeso                                      86\\naltura                                  1.62\\nnome_array        [Gustavo, Anthony, Santos]\\nprimeiro_nome                        Gustavo\\nsobrenome                             Santos\\nnasc_ano                                1900\\nnasc_mes                                   1\\nnasc_dia                                   1\\ncpf_0                                      0\\nName: 285, dtype: object\",\n\"nome                               Gustavo Anthony dos Santos\\ndata_nasc                                 1979-08-23 00:00:00\\ncpf                                               09874775106\\nmae                                          Mariana Beatriz \\ncelular                                             986639990\\nemail            gustavoanthonydossantos_@gruposandino.com.br\\ntelefone_fixo                                        35295873\\nnome_array                    [Gustavo, Anthony, dos, Santos]\\nprimeiro_nome                                         Gustavo\\nsobrenome                                              Santos\\nnasc_ano                                                 1979\\nnasc_mes                                                    8\\nnasc_dia                                                   23\\ncpf_0                                                       0\\nName: 74, dtype: object\",\n{\n            'v': 1.92,\n            'f': \"1.92\",\n        },\n\"{'cpf': 1, 'data_nasc': 0, 'nome': 0.92}\"],\n [{\n            'v': 892,\n            'f': \"892\",\n        },\n\"nome                  Gustavo Anthony Santos\\ndata_nasc                1900-01-01 00:00:00\\ncpf                              09874775106\\ntipo_sanguineo                            A+\\npeso                                      86\\naltura                                  1.62\\nnome_array        [Gustavo, Anthony, Santos]\\nprimeiro_nome                        Gustavo\\nsobrenome                             Santos\\nnasc_ano                                1900\\nnasc_mes                                   1\\nnasc_dia                                   1\\ncpf_0                                      0\\nName: 285, dtype: object\",\n\"nome                               Gustavo Anthony dos Santos\\ndata_nasc                                 1979-08-23 00:00:00\\ncpf                                               09874775106\\nmae                                          Mariana Beatriz \\ncelular                                             986639990\\nemail            gustavoanthonydossantos_@gruposandino.com.br\\ntelefone_fixo                                        35295873\\nnome_array                    [Gustavo, Anthony, dos, Santos]\\nprimeiro_nome                                         Gustavo\\nsobrenome                                              Santos\\nnasc_ano                                                 1979\\nnasc_mes                                                    8\\nnasc_dia                                                   23\\ncpf_0                                                       0\\nName: 74, dtype: object\",\n{\n            'v': 1.92,\n            'f': \"1.92\",\n        },\n\"{'cpf': 1, 'data_nasc': 0, 'nome': 0.92}\"],\n [{\n            'v': 6925,\n            'f': \"6925\",\n        },\n\"nome                  Enzo Albuquerque Silva\\ndata_nasc                2015-01-19 00:00:00\\ncpf                              58762423819\\ntipo_sanguineo                            A-\\npeso                                      14\\naltura                                  1.04\\nnome_array        [Enzo, Albuquerque, Silva]\\nprimeiro_nome                           Enzo\\nsobrenome                              Silva\\nnasc_ano                                2015\\nnasc_mes                                   1\\nnasc_dia                                  19\\ncpf_0                                      5\\nName: 176, dtype: object\",\n\"nome                 Antonio Albuquerque Silva\\ndata_nasc                  1980-07-24 00:00:00\\ncpf                                58762423819\\nmae                  Laura Albuquerque Cardoso\\ncelular                            11998970549\\nemail                  antonio.silva@gmail.com\\ntelefone_fixo                       1135494656\\nnome_array       [Antonio, Albuquerque, Silva]\\nprimeiro_nome                          Antonio\\nsobrenome                                Silva\\nnasc_ano                                  1980\\nnasc_mes                                     7\\nnasc_dia                                    24\\ncpf_0                                        5\\nName: 229, dtype: object\",\n{\n            'v': 1.85,\n            'f': \"1.85\",\n        },\n\"{'cpf': 1, 'data_nasc': 0, 'nome': 0.85}\"],\n [{\n            'v': 8881,\n            'f': \"8881\",\n        },\n\"nome                   Camila Giovana Nat\\u00e1lia Rodrigu\\ndata_nasc                         1900-01-01 00:00:00\\ncpf                                       61356010245\\ntipo_sanguineo                                     B-\\npeso                                               73\\naltura                                           1.62\\nnome_array        [Camila, Giovana, Nat\\u00e1lia, Rodrigu]\\nprimeiro_nome                                  Camila\\nsobrenome                                     Rodrigu\\nnasc_ano                                         1900\\nnasc_mes                                            1\\nnasc_dia                                            1\\ncpf_0                                               6\\nName: 344, dtype: object\",\n\"nome                              Camila Giovana Nat\\u00e1lia Rodrigues\\ndata_nasc                                      1984-03-14 00:00:00\\ncpf                                                    61356010245\\nmae                                        Alessandra Sueli Laura \\ncelular                                                  992297833\\nemail            camilagiovananataliarodrigues-73@technocut.com.br\\ntelefone_fixo                                             35373157\\nnome_array                   [Camila, Giovana, Nat\\u00e1lia, Rodrigues]\\nprimeiro_nome                                               Camila\\nsobrenome                                                Rodrigues\\nnasc_ano                                                      1984\\nnasc_mes                                                         3\\nnasc_dia                                                        14\\ncpf_0                                                            6\\nName: 65, dtype: object\",\n{\n            'v': 1.97,\n            'f': \"1.97\",\n        },\n\"{'cpf': 1, 'data_nasc': 0, 'nome': 0.97}\"],\n [{\n            'v': 8625,\n            'f': \"8625\",\n        },\n\"nome                   Sueli Clara Hadassa Cruz\\ndata_nasc                   1900-04-08 00:00:00\\ncpf                                 64692449713\\ntipo_sanguineo                               A+\\npeso                                         67\\naltura                                     1.55\\nnome_array        [Sueli, Clara, Hadassa, Cruz]\\nprimeiro_nome                             Sueli\\nsobrenome                                  Cruz\\nnasc_ano                                   1900\\nnasc_mes                                      4\\nnasc_dia                                      8\\ncpf_0                                         6\\nName: 227, dtype: object\",\n\"nome                             Sueli Clara Hadassa da Cruz\\ndata_nasc                                1991-04-08 00:00:00\\ncpf                                              64692449713\\nmae                                  Aline Marina Francisca \\ncelular                                            989657164\\nemail            sueliclarahadassadacruz-87@cntbrasil.com.br\\ntelefone_fixo                                       35443789\\nnome_array                 [Sueli, Clara, Hadassa, da, Cruz]\\nprimeiro_nome                                          Sueli\\nsobrenome                                               Cruz\\nnasc_ano                                                1991\\nnasc_mes                                                   4\\nnasc_dia                                                   8\\ncpf_0                                                      6\\nName: 288, dtype: object\",\n{\n            'v': 1.94,\n            'f': \"1.94\",\n        },\n\"{'cpf': 1, 'data_nasc': 0, 'nome': 0.94}\"]],\n        columns: [[\"number\", \"index\"], [\"string\", \"paciente\"], [\"string\", \"registro\"], [\"number\", \"simSum\"], [\"string\", \"similaridade\"]],\n        columnOptions: [{\"width\": \"1px\", \"className\": \"index_column\"}],\n        rowsPerPage: 25,\n        helpUrl: \"https://colab.research.google.com/notebooks/data_table.ipynb\",\n        suppressOutputScrolling: true,\n        minimumWidth: undefined,\n      });\n    ",
            "text/html": [
              "<div>\n",
              "<style scoped>\n",
              "    .dataframe tbody tr th:only-of-type {\n",
              "        vertical-align: middle;\n",
              "    }\n",
              "\n",
              "    .dataframe tbody tr th {\n",
              "        vertical-align: top;\n",
              "    }\n",
              "\n",
              "    .dataframe thead th {\n",
              "        text-align: right;\n",
              "    }\n",
              "</style>\n",
              "<table border=\"1\" class=\"dataframe\">\n",
              "  <thead>\n",
              "    <tr style=\"text-align: right;\">\n",
              "      <th></th>\n",
              "      <th>paciente</th>\n",
              "      <th>registro</th>\n",
              "      <th>simSum</th>\n",
              "      <th>similaridade</th>\n",
              "    </tr>\n",
              "  </thead>\n",
              "  <tbody>\n",
              "    <tr>\n",
              "      <th>10490</th>\n",
              "      <td>nome                   Davi Francisco Isaac Ma...</td>\n",
              "      <td>nome                         Davi Francisco Is...</td>\n",
              "      <td>1.94</td>\n",
              "      <td>{'cpf': 1, 'data_nasc': 0, 'nome': 0.94}</td>\n",
              "    </tr>\n",
              "    <tr>\n",
              "      <th>10378</th>\n",
              "      <td>nome                   Maite Luna Ayla Nascime...</td>\n",
              "      <td>nome                   Maitê Luna Ayla Nascime...</td>\n",
              "      <td>1.98</td>\n",
              "      <td>{'cpf': 1, 'data_nasc': 0, 'nome': 0.98}</td>\n",
              "    </tr>\n",
              "    <tr>\n",
              "      <th>807</th>\n",
              "      <td>nome                  Aparecida Mariah Cunha\n",
              "d...</td>\n",
              "      <td>nome                                     Apare...</td>\n",
              "      <td>1.94</td>\n",
              "      <td>{'cpf': 1, 'data_nasc': 0, 'nome': 0.94}</td>\n",
              "    </tr>\n",
              "    <tr>\n",
              "      <th>259</th>\n",
              "      <td>nome                   Lúcia C Luzia Almada\n",
              "da...</td>\n",
              "      <td>nome                        Lúcia Carolina Luz...</td>\n",
              "      <td>1.84</td>\n",
              "      <td>{'cpf': 1, 'data_nasc': 0, 'nome': 0.84}</td>\n",
              "    </tr>\n",
              "    <tr>\n",
              "      <th>259</th>\n",
              "      <td>nome                   Lúcia C Luzia Almada\n",
              "da...</td>\n",
              "      <td>nome                        Lúcia Carolina Luz...</td>\n",
              "      <td>1.84</td>\n",
              "      <td>{'cpf': 1, 'data_nasc': 0, 'nome': 0.84}</td>\n",
              "    </tr>\n",
              "    <tr>\n",
              "      <th>892</th>\n",
              "      <td>nome                  Gustavo Anthony Santos\n",
              "d...</td>\n",
              "      <td>nome                               Gustavo Ant...</td>\n",
              "      <td>1.92</td>\n",
              "      <td>{'cpf': 1, 'data_nasc': 0, 'nome': 0.92}</td>\n",
              "    </tr>\n",
              "    <tr>\n",
              "      <th>892</th>\n",
              "      <td>nome                  Gustavo Anthony Santos\n",
              "d...</td>\n",
              "      <td>nome                               Gustavo Ant...</td>\n",
              "      <td>1.92</td>\n",
              "      <td>{'cpf': 1, 'data_nasc': 0, 'nome': 0.92}</td>\n",
              "    </tr>\n",
              "    <tr>\n",
              "      <th>6925</th>\n",
              "      <td>nome                  Enzo Albuquerque Silva\n",
              "d...</td>\n",
              "      <td>nome                 Antonio Albuquerque Silva...</td>\n",
              "      <td>1.85</td>\n",
              "      <td>{'cpf': 1, 'data_nasc': 0, 'nome': 0.85}</td>\n",
              "    </tr>\n",
              "    <tr>\n",
              "      <th>8881</th>\n",
              "      <td>nome                   Camila Giovana Natália ...</td>\n",
              "      <td>nome                              Camila Giova...</td>\n",
              "      <td>1.97</td>\n",
              "      <td>{'cpf': 1, 'data_nasc': 0, 'nome': 0.97}</td>\n",
              "    </tr>\n",
              "    <tr>\n",
              "      <th>8625</th>\n",
              "      <td>nome                   Sueli Clara Hadassa Cru...</td>\n",
              "      <td>nome                             Sueli Clara H...</td>\n",
              "      <td>1.94</td>\n",
              "      <td>{'cpf': 1, 'data_nasc': 0, 'nome': 0.94}</td>\n",
              "    </tr>\n",
              "  </tbody>\n",
              "</table>\n",
              "</div>"
            ],
            "text/plain": [
              "                                                paciente  ...                              similaridade\n",
              "10490  nome                   Davi Francisco Isaac Ma...  ...  {'cpf': 1, 'data_nasc': 0, 'nome': 0.94}\n",
              "10378  nome                   Maite Luna Ayla Nascime...  ...  {'cpf': 1, 'data_nasc': 0, 'nome': 0.98}\n",
              "807    nome                  Aparecida Mariah Cunha\n",
              "d...  ...  {'cpf': 1, 'data_nasc': 0, 'nome': 0.94}\n",
              "259    nome                   Lúcia C Luzia Almada\n",
              "da...  ...  {'cpf': 1, 'data_nasc': 0, 'nome': 0.84}\n",
              "259    nome                   Lúcia C Luzia Almada\n",
              "da...  ...  {'cpf': 1, 'data_nasc': 0, 'nome': 0.84}\n",
              "892    nome                  Gustavo Anthony Santos\n",
              "d...  ...  {'cpf': 1, 'data_nasc': 0, 'nome': 0.92}\n",
              "892    nome                  Gustavo Anthony Santos\n",
              "d...  ...  {'cpf': 1, 'data_nasc': 0, 'nome': 0.92}\n",
              "6925   nome                  Enzo Albuquerque Silva\n",
              "d...  ...  {'cpf': 1, 'data_nasc': 0, 'nome': 0.85}\n",
              "8881   nome                   Camila Giovana Natália ...  ...  {'cpf': 1, 'data_nasc': 0, 'nome': 0.97}\n",
              "8625   nome                   Sueli Clara Hadassa Cru...  ...  {'cpf': 1, 'data_nasc': 0, 'nome': 0.94}\n",
              "\n",
              "[10 rows x 4 columns]"
            ]
          },
          "metadata": {
            "tags": []
          },
          "execution_count": 157
        }
      ]
    },
    {
      "cell_type": "code",
      "metadata": {
        "colab": {
          "base_uri": "https://localhost:8080/"
        },
        "id": "062JvxDnDXEy",
        "outputId": "46954de2-638d-4d39-cf10-556a25a333d3"
      },
      "source": [
        "#True Positive: 10\n",
        "#False Positive: 0\n",
        "#True Negative: 2\n",
        "#False Negative: 8\n",
        "TP = 10\n",
        "FP = 0\n",
        "TN = 2\n",
        "FN = 8\n",
        "\n",
        "acuracia = (TP+TN)/(TP+FP+TN+FN)\n",
        "precisao = TP/(TP+FP)\n",
        "recall = TP/(TP+FN)\n",
        "fmeasure = 2*(precisao*recall)/(precisao+recall)\n",
        "\n",
        "print(\"Acuracia: {}\".format(acuracia))\n",
        "print(\"Recall: {}\".format(recall))\n",
        "print(\"Precisão: {}\".format(precisao))\n",
        "print(\"F-measure: {}\".format(fmeasure))"
      ],
      "execution_count": 160,
      "outputs": [
        {
          "output_type": "stream",
          "text": [
            "Acuracia: 0.6\n",
            "Recall: 0.5555555555555556\n",
            "Precisão: 1.0\n",
            "F-measure: 0.7142857142857143\n"
          ],
          "name": "stdout"
        }
      ]
    }
  ]
}